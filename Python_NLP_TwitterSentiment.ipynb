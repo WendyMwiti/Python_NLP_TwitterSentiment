{
 "cells": [
  {
   "cell_type": "code",
   "execution_count": 2,
   "id": "0f1991f3",
   "metadata": {},
   "outputs": [
    {
     "name": "stdout",
     "output_type": "stream",
     "text": [
      "Package              Version\n",
      "-------------------- -----------\n",
      "argon2-cffi          21.3.0\n",
      "argon2-cffi-bindings 21.2.0\n",
      "asttokens            2.0.8\n",
      "attrs                22.1.0\n",
      "backcall             0.2.0\n",
      "beautifulsoup4       4.11.1\n",
      "bleach               5.0.1\n",
      "cffi                 1.15.1\n",
      "colorama             0.4.5\n",
      "contourpy            1.0.5\n",
      "cycler               0.11.0\n",
      "debugpy              1.6.3\n",
      "decorator            5.1.1\n",
      "defusedxml           0.7.1\n",
      "entrypoints          0.4\n",
      "executing            1.0.0\n",
      "fastjsonschema       2.16.1\n",
      "fonttools            4.37.2\n",
      "importlib-metadata   4.12.0\n",
      "importlib-resources  5.9.0\n",
      "ipykernel            6.15.3\n",
      "ipython              8.5.0\n",
      "ipython-genutils     0.2.0\n",
      "ipywidgets           8.0.2\n",
      "jedi                 0.18.1\n",
      "Jinja2               3.1.2\n",
      "jsonschema           4.16.0\n",
      "jupyter              1.0.0\n",
      "jupyter_client       7.3.5\n",
      "jupyter-console      6.4.4\n",
      "jupyter-core         4.11.1\n",
      "jupyterlab-pygments  0.2.2\n",
      "jupyterlab-widgets   3.0.3\n",
      "jupyterthemes        0.20.0\n",
      "kiwisolver           1.4.4\n",
      "lesscpy              0.15.0\n",
      "lxml                 4.9.1\n",
      "MarkupSafe           2.1.1\n",
      "matplotlib           3.6.0\n",
      "matplotlib-inline    0.1.6\n",
      "mistune              2.0.4\n",
      "nbclient             0.6.8\n",
      "nbconvert            7.0.0\n",
      "nbformat             5.5.0\n",
      "nest-asyncio         1.5.5\n",
      "notebook             6.4.12\n",
      "numpy                1.23.3\n",
      "packaging            21.3\n",
      "pandas               1.4.4\n",
      "pandocfilters        1.5.0\n",
      "parso                0.8.3\n",
      "pickleshare          0.7.5\n",
      "Pillow               9.2.0\n",
      "pip                  22.2.2\n",
      "pkgutil_resolve_name 1.3.10\n",
      "ply                  3.11\n",
      "prometheus-client    0.14.1\n",
      "prompt-toolkit       3.0.31\n",
      "psutil               5.9.2\n",
      "pure-eval            0.2.2\n",
      "pycparser            2.21\n",
      "Pygments             2.13.0\n",
      "pyparsing            3.0.9\n",
      "pyrsistent           0.18.1\n",
      "python-dateutil      2.8.2\n",
      "pytz                 2022.2.1\n",
      "pywin32              304\n",
      "pywinpty             2.0.8\n",
      "pyzmq                24.0.0\n",
      "qtconsole            5.3.2\n",
      "QtPy                 2.2.0\n",
      "seaborn              0.12.0\n",
      "Send2Trash           1.8.0\n",
      "setuptools           49.2.1\n",
      "six                  1.16.0\n",
      "soupsieve            2.3.2.post1\n",
      "stack-data           0.5.0\n",
      "terminado            0.15.0\n",
      "tinycss2             1.1.1\n",
      "tornado              6.2\n",
      "traitlets            5.4.0\n",
      "wcwidth              0.2.5\n",
      "webencodings         0.5.1\n",
      "widgetsnbextension   4.0.3\n",
      "zipp                 3.8.1\n",
      "Note: you may need to restart the kernel to use updated packages.\n"
     ]
    }
   ],
   "source": [
    "pip list"
   ]
  },
  {
   "cell_type": "code",
   "execution_count": 3,
   "id": "147203de",
   "metadata": {},
   "outputs": [
    {
     "name": "stdout",
     "output_type": "stream",
     "text": [
      "Requirement already satisfied: jupyterthemes in c:\\users\\dymas\\development\\python\\nlp_twitter_sentiment\\venv\\lib\\site-packages (0.20.0)\n",
      "Requirement already satisfied: notebook>=5.6.0 in c:\\users\\dymas\\development\\python\\nlp_twitter_sentiment\\venv\\lib\\site-packages (from jupyterthemes) (6.4.12)\n",
      "Requirement already satisfied: ipython>=5.4.1 in c:\\users\\dymas\\development\\python\\nlp_twitter_sentiment\\venv\\lib\\site-packages (from jupyterthemes) (8.5.0)\n",
      "Requirement already satisfied: matplotlib>=1.4.3 in c:\\users\\dymas\\development\\python\\nlp_twitter_sentiment\\venv\\lib\\site-packages (from jupyterthemes) (3.6.0)\n",
      "Requirement already satisfied: lesscpy>=0.11.2 in c:\\users\\dymas\\development\\python\\nlp_twitter_sentiment\\venv\\lib\\site-packages (from jupyterthemes) (0.15.0)\n",
      "Requirement already satisfied: jupyter-core in c:\\users\\dymas\\development\\python\\nlp_twitter_sentiment\\venv\\lib\\site-packages (from jupyterthemes) (4.11.1)\n",
      "Requirement already satisfied: prompt-toolkit<3.1.0,>3.0.1 in c:\\users\\dymas\\development\\python\\nlp_twitter_sentiment\\venv\\lib\\site-packages (from ipython>=5.4.1->jupyterthemes) (3.0.31)\n",
      "Requirement already satisfied: stack-data in c:\\users\\dymas\\development\\python\\nlp_twitter_sentiment\\venv\\lib\\site-packages (from ipython>=5.4.1->jupyterthemes) (0.5.0)\n",
      "Requirement already satisfied: matplotlib-inline in c:\\users\\dymas\\development\\python\\nlp_twitter_sentiment\\venv\\lib\\site-packages (from ipython>=5.4.1->jupyterthemes) (0.1.6)\n",
      "Requirement already satisfied: decorator in c:\\users\\dymas\\development\\python\\nlp_twitter_sentiment\\venv\\lib\\site-packages (from ipython>=5.4.1->jupyterthemes) (5.1.1)\n",
      "Requirement already satisfied: jedi>=0.16 in c:\\users\\dymas\\development\\python\\nlp_twitter_sentiment\\venv\\lib\\site-packages (from ipython>=5.4.1->jupyterthemes) (0.18.1)\n",
      "Requirement already satisfied: pickleshare in c:\\users\\dymas\\development\\python\\nlp_twitter_sentiment\\venv\\lib\\site-packages (from ipython>=5.4.1->jupyterthemes) (0.7.5)\n",
      "Requirement already satisfied: backcall in c:\\users\\dymas\\development\\python\\nlp_twitter_sentiment\\venv\\lib\\site-packages (from ipython>=5.4.1->jupyterthemes) (0.2.0)\n",
      "Requirement already satisfied: pygments>=2.4.0 in c:\\users\\dymas\\development\\python\\nlp_twitter_sentiment\\venv\\lib\\site-packages (from ipython>=5.4.1->jupyterthemes) (2.13.0)\n",
      "Requirement already satisfied: colorama in c:\\users\\dymas\\development\\python\\nlp_twitter_sentiment\\venv\\lib\\site-packages (from ipython>=5.4.1->jupyterthemes) (0.4.5)\n",
      "Requirement already satisfied: traitlets>=5 in c:\\users\\dymas\\development\\python\\nlp_twitter_sentiment\\venv\\lib\\site-packages (from ipython>=5.4.1->jupyterthemes) (5.4.0)\n",
      "Requirement already satisfied: six in c:\\users\\dymas\\development\\python\\nlp_twitter_sentiment\\venv\\lib\\site-packages (from lesscpy>=0.11.2->jupyterthemes) (1.16.0)\n",
      "Requirement already satisfied: ply in c:\\users\\dymas\\development\\python\\nlp_twitter_sentiment\\venv\\lib\\site-packages (from lesscpy>=0.11.2->jupyterthemes) (3.11)\n",
      "Requirement already satisfied: contourpy>=1.0.1 in c:\\users\\dymas\\development\\python\\nlp_twitter_sentiment\\venv\\lib\\site-packages (from matplotlib>=1.4.3->jupyterthemes) (1.0.5)\n",
      "Requirement already satisfied: packaging>=20.0 in c:\\users\\dymas\\development\\python\\nlp_twitter_sentiment\\venv\\lib\\site-packages (from matplotlib>=1.4.3->jupyterthemes) (21.3)\n",
      "Requirement already satisfied: kiwisolver>=1.0.1 in c:\\users\\dymas\\development\\python\\nlp_twitter_sentiment\\venv\\lib\\site-packages (from matplotlib>=1.4.3->jupyterthemes) (1.4.4)\n",
      "Requirement already satisfied: cycler>=0.10 in c:\\users\\dymas\\development\\python\\nlp_twitter_sentiment\\venv\\lib\\site-packages (from matplotlib>=1.4.3->jupyterthemes) (0.11.0)\n",
      "Requirement already satisfied: numpy>=1.19 in c:\\users\\dymas\\development\\python\\nlp_twitter_sentiment\\venv\\lib\\site-packages (from matplotlib>=1.4.3->jupyterthemes) (1.23.3)\n",
      "Requirement already satisfied: python-dateutil>=2.7 in c:\\users\\dymas\\development\\python\\nlp_twitter_sentiment\\venv\\lib\\site-packages (from matplotlib>=1.4.3->jupyterthemes) (2.8.2)\n",
      "Requirement already satisfied: pyparsing>=2.2.1 in c:\\users\\dymas\\development\\python\\nlp_twitter_sentiment\\venv\\lib\\site-packages (from matplotlib>=1.4.3->jupyterthemes) (3.0.9)\n",
      "Requirement already satisfied: pillow>=6.2.0 in c:\\users\\dymas\\development\\python\\nlp_twitter_sentiment\\venv\\lib\\site-packages (from matplotlib>=1.4.3->jupyterthemes) (9.2.0)\n",
      "Requirement already satisfied: fonttools>=4.22.0 in c:\\users\\dymas\\development\\python\\nlp_twitter_sentiment\\venv\\lib\\site-packages (from matplotlib>=1.4.3->jupyterthemes) (4.37.2)\n",
      "Requirement already satisfied: argon2-cffi in c:\\users\\dymas\\development\\python\\nlp_twitter_sentiment\\venv\\lib\\site-packages (from notebook>=5.6.0->jupyterthemes) (21.3.0)\n",
      "Requirement already satisfied: Send2Trash>=1.8.0 in c:\\users\\dymas\\development\\python\\nlp_twitter_sentiment\\venv\\lib\\site-packages (from notebook>=5.6.0->jupyterthemes) (1.8.0)\n",
      "Requirement already satisfied: jinja2 in c:\\users\\dymas\\development\\python\\nlp_twitter_sentiment\\venv\\lib\\site-packages (from notebook>=5.6.0->jupyterthemes) (3.1.2)\n",
      "Requirement already satisfied: tornado>=6.1 in c:\\users\\dymas\\development\\python\\nlp_twitter_sentiment\\venv\\lib\\site-packages (from notebook>=5.6.0->jupyterthemes) (6.2)\n",
      "Requirement already satisfied: pyzmq>=17 in c:\\users\\dymas\\development\\python\\nlp_twitter_sentiment\\venv\\lib\\site-packages (from notebook>=5.6.0->jupyterthemes) (24.0.0)\n",
      "Requirement already satisfied: nbconvert>=5 in c:\\users\\dymas\\development\\python\\nlp_twitter_sentiment\\venv\\lib\\site-packages (from notebook>=5.6.0->jupyterthemes) (7.0.0)\n",
      "Requirement already satisfied: terminado>=0.8.3 in c:\\users\\dymas\\development\\python\\nlp_twitter_sentiment\\venv\\lib\\site-packages (from notebook>=5.6.0->jupyterthemes) (0.15.0)\n",
      "Requirement already satisfied: nbformat in c:\\users\\dymas\\development\\python\\nlp_twitter_sentiment\\venv\\lib\\site-packages (from notebook>=5.6.0->jupyterthemes) (5.5.0)\n",
      "Requirement already satisfied: ipython-genutils in c:\\users\\dymas\\development\\python\\nlp_twitter_sentiment\\venv\\lib\\site-packages (from notebook>=5.6.0->jupyterthemes) (0.2.0)\n",
      "Requirement already satisfied: prometheus-client in c:\\users\\dymas\\development\\python\\nlp_twitter_sentiment\\venv\\lib\\site-packages (from notebook>=5.6.0->jupyterthemes) (0.14.1)\n",
      "Requirement already satisfied: nest-asyncio>=1.5 in c:\\users\\dymas\\development\\python\\nlp_twitter_sentiment\\venv\\lib\\site-packages (from notebook>=5.6.0->jupyterthemes) (1.5.5)\n",
      "Requirement already satisfied: ipykernel in c:\\users\\dymas\\development\\python\\nlp_twitter_sentiment\\venv\\lib\\site-packages (from notebook>=5.6.0->jupyterthemes) (6.15.3)\n",
      "Requirement already satisfied: jupyter-client>=5.3.4 in c:\\users\\dymas\\development\\python\\nlp_twitter_sentiment\\venv\\lib\\site-packages (from notebook>=5.6.0->jupyterthemes) (7.3.5)\n",
      "Requirement already satisfied: pywin32>=1.0 in c:\\users\\dymas\\development\\python\\nlp_twitter_sentiment\\venv\\lib\\site-packages (from jupyter-core->jupyterthemes) (304)\n",
      "Requirement already satisfied: parso<0.9.0,>=0.8.0 in c:\\users\\dymas\\development\\python\\nlp_twitter_sentiment\\venv\\lib\\site-packages (from jedi>=0.16->ipython>=5.4.1->jupyterthemes) (0.8.3)\n",
      "Requirement already satisfied: entrypoints in c:\\users\\dymas\\development\\python\\nlp_twitter_sentiment\\venv\\lib\\site-packages (from jupyter-client>=5.3.4->notebook>=5.6.0->jupyterthemes) (0.4)\n",
      "Requirement already satisfied: jupyterlab-pygments in c:\\users\\dymas\\development\\python\\nlp_twitter_sentiment\\venv\\lib\\site-packages (from nbconvert>=5->notebook>=5.6.0->jupyterthemes) (0.2.2)\n",
      "Requirement already satisfied: markupsafe>=2.0 in c:\\users\\dymas\\development\\python\\nlp_twitter_sentiment\\venv\\lib\\site-packages (from nbconvert>=5->notebook>=5.6.0->jupyterthemes) (2.1.1)\n",
      "Requirement already satisfied: importlib-metadata>=3.6 in c:\\users\\dymas\\development\\python\\nlp_twitter_sentiment\\venv\\lib\\site-packages (from nbconvert>=5->notebook>=5.6.0->jupyterthemes) (4.12.0)\n",
      "Requirement already satisfied: defusedxml in c:\\users\\dymas\\development\\python\\nlp_twitter_sentiment\\venv\\lib\\site-packages (from nbconvert>=5->notebook>=5.6.0->jupyterthemes) (0.7.1)\n",
      "Requirement already satisfied: lxml in c:\\users\\dymas\\development\\python\\nlp_twitter_sentiment\\venv\\lib\\site-packages (from nbconvert>=5->notebook>=5.6.0->jupyterthemes) (4.9.1)\n",
      "Requirement already satisfied: beautifulsoup4 in c:\\users\\dymas\\development\\python\\nlp_twitter_sentiment\\venv\\lib\\site-packages (from nbconvert>=5->notebook>=5.6.0->jupyterthemes) (4.11.1)\n",
      "Requirement already satisfied: nbclient>=0.5.0 in c:\\users\\dymas\\development\\python\\nlp_twitter_sentiment\\venv\\lib\\site-packages (from nbconvert>=5->notebook>=5.6.0->jupyterthemes) (0.6.8)\n",
      "Requirement already satisfied: pandocfilters>=1.4.1 in c:\\users\\dymas\\development\\python\\nlp_twitter_sentiment\\venv\\lib\\site-packages (from nbconvert>=5->notebook>=5.6.0->jupyterthemes) (1.5.0)\n",
      "Requirement already satisfied: bleach in c:\\users\\dymas\\development\\python\\nlp_twitter_sentiment\\venv\\lib\\site-packages (from nbconvert>=5->notebook>=5.6.0->jupyterthemes) (5.0.1)\n",
      "Requirement already satisfied: tinycss2 in c:\\users\\dymas\\development\\python\\nlp_twitter_sentiment\\venv\\lib\\site-packages (from nbconvert>=5->notebook>=5.6.0->jupyterthemes) (1.1.1)\n",
      "Requirement already satisfied: mistune<3,>=2.0.3 in c:\\users\\dymas\\development\\python\\nlp_twitter_sentiment\\venv\\lib\\site-packages (from nbconvert>=5->notebook>=5.6.0->jupyterthemes) (2.0.4)\n",
      "Requirement already satisfied: jsonschema>=2.6 in c:\\users\\dymas\\development\\python\\nlp_twitter_sentiment\\venv\\lib\\site-packages (from nbformat->notebook>=5.6.0->jupyterthemes) (4.16.0)\n",
      "Requirement already satisfied: fastjsonschema in c:\\users\\dymas\\development\\python\\nlp_twitter_sentiment\\venv\\lib\\site-packages (from nbformat->notebook>=5.6.0->jupyterthemes) (2.16.1)\n",
      "Requirement already satisfied: wcwidth in c:\\users\\dymas\\development\\python\\nlp_twitter_sentiment\\venv\\lib\\site-packages (from prompt-toolkit<3.1.0,>3.0.1->ipython>=5.4.1->jupyterthemes) (0.2.5)\n",
      "Requirement already satisfied: pywinpty>=1.1.0 in c:\\users\\dymas\\development\\python\\nlp_twitter_sentiment\\venv\\lib\\site-packages (from terminado>=0.8.3->notebook>=5.6.0->jupyterthemes) (2.0.8)\n",
      "Requirement already satisfied: argon2-cffi-bindings in c:\\users\\dymas\\development\\python\\nlp_twitter_sentiment\\venv\\lib\\site-packages (from argon2-cffi->notebook>=5.6.0->jupyterthemes) (21.2.0)\n",
      "Requirement already satisfied: psutil in c:\\users\\dymas\\development\\python\\nlp_twitter_sentiment\\venv\\lib\\site-packages (from ipykernel->notebook>=5.6.0->jupyterthemes) (5.9.2)\n",
      "Requirement already satisfied: debugpy>=1.0 in c:\\users\\dymas\\development\\python\\nlp_twitter_sentiment\\venv\\lib\\site-packages (from ipykernel->notebook>=5.6.0->jupyterthemes) (1.6.3)\n",
      "Requirement already satisfied: pure-eval in c:\\users\\dymas\\development\\python\\nlp_twitter_sentiment\\venv\\lib\\site-packages (from stack-data->ipython>=5.4.1->jupyterthemes) (0.2.2)\n",
      "Requirement already satisfied: asttokens in c:\\users\\dymas\\development\\python\\nlp_twitter_sentiment\\venv\\lib\\site-packages (from stack-data->ipython>=5.4.1->jupyterthemes) (2.0.8)\n",
      "Requirement already satisfied: executing in c:\\users\\dymas\\development\\python\\nlp_twitter_sentiment\\venv\\lib\\site-packages (from stack-data->ipython>=5.4.1->jupyterthemes) (1.0.0)\n",
      "Requirement already satisfied: zipp>=0.5 in c:\\users\\dymas\\development\\python\\nlp_twitter_sentiment\\venv\\lib\\site-packages (from importlib-metadata>=3.6->nbconvert>=5->notebook>=5.6.0->jupyterthemes) (3.8.1)\n",
      "Requirement already satisfied: pkgutil-resolve-name>=1.3.10 in c:\\users\\dymas\\development\\python\\nlp_twitter_sentiment\\venv\\lib\\site-packages (from jsonschema>=2.6->nbformat->notebook>=5.6.0->jupyterthemes) (1.3.10)\n",
      "Requirement already satisfied: importlib-resources>=1.4.0 in c:\\users\\dymas\\development\\python\\nlp_twitter_sentiment\\venv\\lib\\site-packages (from jsonschema>=2.6->nbformat->notebook>=5.6.0->jupyterthemes) (5.9.0)\n",
      "Requirement already satisfied: attrs>=17.4.0 in c:\\users\\dymas\\development\\python\\nlp_twitter_sentiment\\venv\\lib\\site-packages (from jsonschema>=2.6->nbformat->notebook>=5.6.0->jupyterthemes) (22.1.0)\n",
      "Requirement already satisfied: pyrsistent!=0.17.0,!=0.17.1,!=0.17.2,>=0.14.0 in c:\\users\\dymas\\development\\python\\nlp_twitter_sentiment\\venv\\lib\\site-packages (from jsonschema>=2.6->nbformat->notebook>=5.6.0->jupyterthemes) (0.18.1)\n",
      "Requirement already satisfied: cffi>=1.0.1 in c:\\users\\dymas\\development\\python\\nlp_twitter_sentiment\\venv\\lib\\site-packages (from argon2-cffi-bindings->argon2-cffi->notebook>=5.6.0->jupyterthemes) (1.15.1)\n",
      "Requirement already satisfied: soupsieve>1.2 in c:\\users\\dymas\\development\\python\\nlp_twitter_sentiment\\venv\\lib\\site-packages (from beautifulsoup4->nbconvert>=5->notebook>=5.6.0->jupyterthemes) (2.3.2.post1)\n",
      "Requirement already satisfied: webencodings in c:\\users\\dymas\\development\\python\\nlp_twitter_sentiment\\venv\\lib\\site-packages (from bleach->nbconvert>=5->notebook>=5.6.0->jupyterthemes) (0.5.1)\n",
      "Requirement already satisfied: pycparser in c:\\users\\dymas\\development\\python\\nlp_twitter_sentiment\\venv\\lib\\site-packages (from cffi>=1.0.1->argon2-cffi-bindings->argon2-cffi->notebook>=5.6.0->jupyterthemes) (2.21)\n"
     ]
    },
    {
     "name": "stdout",
     "output_type": "stream",
     "text": [
      "Available Themes: \n",
      "   chesterish\n",
      "   grade3\n",
      "   gruvboxd\n",
      "   gruvboxl\n",
      "   monokai\n",
      "   oceans16\n",
      "   onedork\n",
      "   solarizedd\n",
      "   solarizedl\n"
     ]
    }
   ],
   "source": [
    "## You can do all of this in jupyter notebook\n",
    "\n",
    "# Install jupyterthemes\n",
    "!pip install jupyterthemes\n",
    "\n",
    "# Show available themes\n",
    "!jt -l\n",
    "\n",
    "# Use theme\n",
    "\n",
    "# e.g. !jt -t monokai"
   ]
  },
  {
   "cell_type": "code",
   "execution_count": 4,
   "id": "7da31b99",
   "metadata": {},
   "outputs": [],
   "source": [
    "!jt -t monokai"
   ]
  },
  {
   "cell_type": "markdown",
   "id": "9c8faad3",
   "metadata": {},
   "source": [
    "# Task 2: Understand the problem statement and business case"
   ]
  },
  {
   "cell_type": "code",
   "execution_count": 5,
   "id": "92408e8a",
   "metadata": {},
   "outputs": [],
   "source": [
    "import pandas as pd\n",
    "import numpy as np\n",
    "import seaborn as sns\n",
    "import matplotlib.pyplot as plt\n",
    "from jupyterthemes import jtplot \n",
    "jtplot.style(theme='monokai', context='notebook', ticks=True, grid=False)"
   ]
  },
  {
   "cell_type": "code",
   "execution_count": 6,
   "id": "bdc687d9",
   "metadata": {},
   "outputs": [],
   "source": [
    "tweets_df = pd.read_csv('twitter.csv')"
   ]
  },
  {
   "cell_type": "code",
   "execution_count": 7,
   "id": "74d8ca36",
   "metadata": {},
   "outputs": [
    {
     "data": {
      "text/html": [
       "<div>\n",
       "<style scoped>\n",
       "    .dataframe tbody tr th:only-of-type {\n",
       "        vertical-align: middle;\n",
       "    }\n",
       "\n",
       "    .dataframe tbody tr th {\n",
       "        vertical-align: top;\n",
       "    }\n",
       "\n",
       "    .dataframe thead th {\n",
       "        text-align: right;\n",
       "    }\n",
       "</style>\n",
       "<table border=\"1\" class=\"dataframe\">\n",
       "  <thead>\n",
       "    <tr style=\"text-align: right;\">\n",
       "      <th></th>\n",
       "      <th>id</th>\n",
       "      <th>label</th>\n",
       "      <th>tweet</th>\n",
       "    </tr>\n",
       "  </thead>\n",
       "  <tbody>\n",
       "    <tr>\n",
       "      <th>0</th>\n",
       "      <td>1</td>\n",
       "      <td>0</td>\n",
       "      <td>@user when a father is dysfunctional and is s...</td>\n",
       "    </tr>\n",
       "    <tr>\n",
       "      <th>1</th>\n",
       "      <td>2</td>\n",
       "      <td>0</td>\n",
       "      <td>@user @user thanks for #lyft credit i can't us...</td>\n",
       "    </tr>\n",
       "    <tr>\n",
       "      <th>2</th>\n",
       "      <td>3</td>\n",
       "      <td>0</td>\n",
       "      <td>bihday your majesty</td>\n",
       "    </tr>\n",
       "    <tr>\n",
       "      <th>3</th>\n",
       "      <td>4</td>\n",
       "      <td>0</td>\n",
       "      <td>#model   i love u take with u all the time in ...</td>\n",
       "    </tr>\n",
       "    <tr>\n",
       "      <th>4</th>\n",
       "      <td>5</td>\n",
       "      <td>0</td>\n",
       "      <td>factsguide: society now    #motivation</td>\n",
       "    </tr>\n",
       "    <tr>\n",
       "      <th>...</th>\n",
       "      <td>...</td>\n",
       "      <td>...</td>\n",
       "      <td>...</td>\n",
       "    </tr>\n",
       "    <tr>\n",
       "      <th>31957</th>\n",
       "      <td>31958</td>\n",
       "      <td>0</td>\n",
       "      <td>ate @user isz that youuu?ðððððð...</td>\n",
       "    </tr>\n",
       "    <tr>\n",
       "      <th>31958</th>\n",
       "      <td>31959</td>\n",
       "      <td>0</td>\n",
       "      <td>to see nina turner on the airwaves trying to...</td>\n",
       "    </tr>\n",
       "    <tr>\n",
       "      <th>31959</th>\n",
       "      <td>31960</td>\n",
       "      <td>0</td>\n",
       "      <td>listening to sad songs on a monday morning otw...</td>\n",
       "    </tr>\n",
       "    <tr>\n",
       "      <th>31960</th>\n",
       "      <td>31961</td>\n",
       "      <td>1</td>\n",
       "      <td>@user #sikh #temple vandalised in in #calgary,...</td>\n",
       "    </tr>\n",
       "    <tr>\n",
       "      <th>31961</th>\n",
       "      <td>31962</td>\n",
       "      <td>0</td>\n",
       "      <td>thank you @user for you follow</td>\n",
       "    </tr>\n",
       "  </tbody>\n",
       "</table>\n",
       "<p>31962 rows × 3 columns</p>\n",
       "</div>"
      ],
      "text/plain": [
       "          id  label                                              tweet\n",
       "0          1      0   @user when a father is dysfunctional and is s...\n",
       "1          2      0  @user @user thanks for #lyft credit i can't us...\n",
       "2          3      0                                bihday your majesty\n",
       "3          4      0  #model   i love u take with u all the time in ...\n",
       "4          5      0             factsguide: society now    #motivation\n",
       "...      ...    ...                                                ...\n",
       "31957  31958      0  ate @user isz that youuu?ðððððð...\n",
       "31958  31959      0    to see nina turner on the airwaves trying to...\n",
       "31959  31960      0  listening to sad songs on a monday morning otw...\n",
       "31960  31961      1  @user #sikh #temple vandalised in in #calgary,...\n",
       "31961  31962      0                   thank you @user for you follow  \n",
       "\n",
       "[31962 rows x 3 columns]"
      ]
     },
     "execution_count": 7,
     "metadata": {},
     "output_type": "execute_result"
    }
   ],
   "source": [
    "tweets_df"
   ]
  },
  {
   "cell_type": "code",
   "execution_count": 8,
   "id": "74eec6ff",
   "metadata": {},
   "outputs": [
    {
     "name": "stdout",
     "output_type": "stream",
     "text": [
      "<class 'pandas.core.frame.DataFrame'>\n",
      "RangeIndex: 31962 entries, 0 to 31961\n",
      "Data columns (total 3 columns):\n",
      " #   Column  Non-Null Count  Dtype \n",
      "---  ------  --------------  ----- \n",
      " 0   id      31962 non-null  int64 \n",
      " 1   label   31962 non-null  int64 \n",
      " 2   tweet   31962 non-null  object\n",
      "dtypes: int64(2), object(1)\n",
      "memory usage: 749.2+ KB\n"
     ]
    }
   ],
   "source": [
    "# Getting the info of our data:\n",
    "tweets_df.info()"
   ]
  },
  {
   "cell_type": "code",
   "execution_count": 9,
   "id": "98d4b10d",
   "metadata": {},
   "outputs": [
    {
     "data": {
      "text/html": [
       "<div>\n",
       "<style scoped>\n",
       "    .dataframe tbody tr th:only-of-type {\n",
       "        vertical-align: middle;\n",
       "    }\n",
       "\n",
       "    .dataframe tbody tr th {\n",
       "        vertical-align: top;\n",
       "    }\n",
       "\n",
       "    .dataframe thead th {\n",
       "        text-align: right;\n",
       "    }\n",
       "</style>\n",
       "<table border=\"1\" class=\"dataframe\">\n",
       "  <thead>\n",
       "    <tr style=\"text-align: right;\">\n",
       "      <th></th>\n",
       "      <th>id</th>\n",
       "      <th>label</th>\n",
       "    </tr>\n",
       "  </thead>\n",
       "  <tbody>\n",
       "    <tr>\n",
       "      <th>count</th>\n",
       "      <td>31962.000000</td>\n",
       "      <td>31962.000000</td>\n",
       "    </tr>\n",
       "    <tr>\n",
       "      <th>mean</th>\n",
       "      <td>15981.500000</td>\n",
       "      <td>0.070146</td>\n",
       "    </tr>\n",
       "    <tr>\n",
       "      <th>std</th>\n",
       "      <td>9226.778988</td>\n",
       "      <td>0.255397</td>\n",
       "    </tr>\n",
       "    <tr>\n",
       "      <th>min</th>\n",
       "      <td>1.000000</td>\n",
       "      <td>0.000000</td>\n",
       "    </tr>\n",
       "    <tr>\n",
       "      <th>25%</th>\n",
       "      <td>7991.250000</td>\n",
       "      <td>0.000000</td>\n",
       "    </tr>\n",
       "    <tr>\n",
       "      <th>50%</th>\n",
       "      <td>15981.500000</td>\n",
       "      <td>0.000000</td>\n",
       "    </tr>\n",
       "    <tr>\n",
       "      <th>75%</th>\n",
       "      <td>23971.750000</td>\n",
       "      <td>0.000000</td>\n",
       "    </tr>\n",
       "    <tr>\n",
       "      <th>max</th>\n",
       "      <td>31962.000000</td>\n",
       "      <td>1.000000</td>\n",
       "    </tr>\n",
       "  </tbody>\n",
       "</table>\n",
       "</div>"
      ],
      "text/plain": [
       "                 id         label\n",
       "count  31962.000000  31962.000000\n",
       "mean   15981.500000      0.070146\n",
       "std     9226.778988      0.255397\n",
       "min        1.000000      0.000000\n",
       "25%     7991.250000      0.000000\n",
       "50%    15981.500000      0.000000\n",
       "75%    23971.750000      0.000000\n",
       "max    31962.000000      1.000000"
      ]
     },
     "execution_count": 9,
     "metadata": {},
     "output_type": "execute_result"
    }
   ],
   "source": [
    "tweets_df.describe()"
   ]
  },
  {
   "cell_type": "code",
   "execution_count": 10,
   "id": "a37eae3e",
   "metadata": {},
   "outputs": [
    {
     "data": {
      "text/plain": [
       "0         @user when a father is dysfunctional and is s...\n",
       "1        @user @user thanks for #lyft credit i can't us...\n",
       "2                                      bihday your majesty\n",
       "3        #model   i love u take with u all the time in ...\n",
       "4                   factsguide: society now    #motivation\n",
       "                               ...                        \n",
       "31957    ate @user isz that youuu?ðððððð...\n",
       "31958      to see nina turner on the airwaves trying to...\n",
       "31959    listening to sad songs on a monday morning otw...\n",
       "31960    @user #sikh #temple vandalised in in #calgary,...\n",
       "31961                     thank you @user for you follow  \n",
       "Name: tweet, Length: 31962, dtype: object"
      ]
     },
     "execution_count": 10,
     "metadata": {},
     "output_type": "execute_result"
    }
   ],
   "source": [
    "# We want to visualize the tweets\n",
    "tweets_df['tweet']"
   ]
  },
  {
   "cell_type": "code",
   "execution_count": 11,
   "id": "6011ec5a",
   "metadata": {},
   "outputs": [],
   "source": [
    "# axis = 1 indicating to drop the entire column\n",
    "tweets_df = tweets_df.drop(['id'],axis=1)"
   ]
  },
  {
   "cell_type": "markdown",
   "id": "8cbccf8b",
   "metadata": {},
   "source": [
    "# Task 3: Explore the dataset"
   ]
  },
  {
   "cell_type": "code",
   "execution_count": 12,
   "id": "e9fcfbf8",
   "metadata": {},
   "outputs": [
    {
     "data": {
      "text/plain": [
       "<AxesSubplot: >"
      ]
     },
     "execution_count": 12,
     "metadata": {},
     "output_type": "execute_result"
    },
    {
     "data": {
      "image/png": "[encoded data removed]",
      "text/plain": [
       "<Figure size 800x700 with 1 Axes>"
      ]
     },
     "metadata": {},
     "output_type": "display_data"
    }
   ],
   "source": [
    "# Trying to chekc if there is a null elements or not\n",
    "sns.heatmap(tweets_df.isnull(), yticklabels = False, cbar = False, cmap=\"Blues\")"
   ]
  },
  {
   "cell_type": "code",
   "execution_count": 13,
   "id": "a530051e",
   "metadata": {},
   "outputs": [
    {
     "data": {
      "text/plain": [
       "array([[<AxesSubplot: title={'center': 'label'}>]], dtype=object)"
      ]
     },
     "execution_count": 13,
     "metadata": {},
     "output_type": "execute_result"
    },
    {
     "data": {
      "image/png": "[encoded data removed]",
      "text/plain": [
       "<Figure size 1300x500 with 1 Axes>"
      ]
     },
     "metadata": {},
     "output_type": "display_data"
    }
   ],
   "source": [
    "# Basically showing how is the dataset is, based on the score. In here the data is skewed. only small number is - which is the 1.0\n",
    "tweets_df.hist(bins = 30, figsize = (13,5), color = 'r')"
   ]
  },
  {
   "cell_type": "markdown",
   "id": "ddacadd2",
   "metadata": {},
   "source": [
    "### plot similar figure but using the seaborn countplot:"
   ]
  },
  {
   "cell_type": "code",
   "execution_count": 14,
   "id": "71a891bd",
   "metadata": {},
   "outputs": [
    {
     "data": {
      "text/plain": [
       "<AxesSubplot: ylabel='count'>"
      ]
     },
     "execution_count": 14,
     "metadata": {},
     "output_type": "execute_result"
    },
    {
     "data": {
      "image/png": "[encoded data removed]",
      "text/plain": [
       "<Figure size 800x700 with 1 Axes>"
      ]
     },
     "metadata": {},
     "output_type": "display_data"
    }
   ],
   "source": [
    "sns.countplot(tweets_df['label'], label='Count')"
   ]
  },
  {
   "cell_type": "code",
   "execution_count": 15,
   "id": "7c447288",
   "metadata": {},
   "outputs": [
    {
     "data": {
      "text/plain": [
       "count    31962.000000\n",
       "mean         0.070146\n",
       "std          0.255397\n",
       "min          0.000000\n",
       "25%          0.000000\n",
       "50%          0.000000\n",
       "75%          0.000000\n",
       "max          1.000000\n",
       "Name: label, dtype: float64"
      ]
     },
     "execution_count": 15,
     "metadata": {},
     "output_type": "execute_result"
    }
   ],
   "source": [
    "tweets_df['label'].describe()"
   ]
  },
  {
   "cell_type": "code",
   "execution_count": 16,
   "id": "ad63ba7f",
   "metadata": {},
   "outputs": [],
   "source": [
    "# make a new column length of the tweets\n",
    "tweets_df['length'] = tweets_df['tweet'].apply(len)"
   ]
  },
  {
   "cell_type": "code",
   "execution_count": 17,
   "id": "8e9afc29",
   "metadata": {},
   "outputs": [
    {
     "data": {
      "text/html": [
       "<div>\n",
       "<style scoped>\n",
       "    .dataframe tbody tr th:only-of-type {\n",
       "        vertical-align: middle;\n",
       "    }\n",
       "\n",
       "    .dataframe tbody tr th {\n",
       "        vertical-align: top;\n",
       "    }\n",
       "\n",
       "    .dataframe thead th {\n",
       "        text-align: right;\n",
       "    }\n",
       "</style>\n",
       "<table border=\"1\" class=\"dataframe\">\n",
       "  <thead>\n",
       "    <tr style=\"text-align: right;\">\n",
       "      <th></th>\n",
       "      <th>label</th>\n",
       "      <th>tweet</th>\n",
       "      <th>length</th>\n",
       "    </tr>\n",
       "  </thead>\n",
       "  <tbody>\n",
       "    <tr>\n",
       "      <th>0</th>\n",
       "      <td>0</td>\n",
       "      <td>@user when a father is dysfunctional and is s...</td>\n",
       "      <td>102</td>\n",
       "    </tr>\n",
       "    <tr>\n",
       "      <th>1</th>\n",
       "      <td>0</td>\n",
       "      <td>@user @user thanks for #lyft credit i can't us...</td>\n",
       "      <td>122</td>\n",
       "    </tr>\n",
       "    <tr>\n",
       "      <th>2</th>\n",
       "      <td>0</td>\n",
       "      <td>bihday your majesty</td>\n",
       "      <td>21</td>\n",
       "    </tr>\n",
       "    <tr>\n",
       "      <th>3</th>\n",
       "      <td>0</td>\n",
       "      <td>#model   i love u take with u all the time in ...</td>\n",
       "      <td>86</td>\n",
       "    </tr>\n",
       "    <tr>\n",
       "      <th>4</th>\n",
       "      <td>0</td>\n",
       "      <td>factsguide: society now    #motivation</td>\n",
       "      <td>39</td>\n",
       "    </tr>\n",
       "    <tr>\n",
       "      <th>...</th>\n",
       "      <td>...</td>\n",
       "      <td>...</td>\n",
       "      <td>...</td>\n",
       "    </tr>\n",
       "    <tr>\n",
       "      <th>31957</th>\n",
       "      <td>0</td>\n",
       "      <td>ate @user isz that youuu?ðððððð...</td>\n",
       "      <td>68</td>\n",
       "    </tr>\n",
       "    <tr>\n",
       "      <th>31958</th>\n",
       "      <td>0</td>\n",
       "      <td>to see nina turner on the airwaves trying to...</td>\n",
       "      <td>131</td>\n",
       "    </tr>\n",
       "    <tr>\n",
       "      <th>31959</th>\n",
       "      <td>0</td>\n",
       "      <td>listening to sad songs on a monday morning otw...</td>\n",
       "      <td>63</td>\n",
       "    </tr>\n",
       "    <tr>\n",
       "      <th>31960</th>\n",
       "      <td>1</td>\n",
       "      <td>@user #sikh #temple vandalised in in #calgary,...</td>\n",
       "      <td>67</td>\n",
       "    </tr>\n",
       "    <tr>\n",
       "      <th>31961</th>\n",
       "      <td>0</td>\n",
       "      <td>thank you @user for you follow</td>\n",
       "      <td>32</td>\n",
       "    </tr>\n",
       "  </tbody>\n",
       "</table>\n",
       "<p>31962 rows × 3 columns</p>\n",
       "</div>"
      ],
      "text/plain": [
       "       label                                              tweet  length\n",
       "0          0   @user when a father is dysfunctional and is s...     102\n",
       "1          0  @user @user thanks for #lyft credit i can't us...     122\n",
       "2          0                                bihday your majesty      21\n",
       "3          0  #model   i love u take with u all the time in ...      86\n",
       "4          0             factsguide: society now    #motivation      39\n",
       "...      ...                                                ...     ...\n",
       "31957      0  ate @user isz that youuu?ðððððð...      68\n",
       "31958      0    to see nina turner on the airwaves trying to...     131\n",
       "31959      0  listening to sad songs on a monday morning otw...      63\n",
       "31960      1  @user #sikh #temple vandalised in in #calgary,...      67\n",
       "31961      0                   thank you @user for you follow        32\n",
       "\n",
       "[31962 rows x 3 columns]"
      ]
     },
     "execution_count": 17,
     "metadata": {},
     "output_type": "execute_result"
    }
   ],
   "source": [
    "tweets_df"
   ]
  },
  {
   "cell_type": "code",
   "execution_count": 18,
   "id": "d3e7c70b",
   "metadata": {},
   "outputs": [
    {
     "data": {
      "text/plain": [
       "<AxesSubplot: ylabel='Frequency'>"
      ]
     },
     "execution_count": 18,
     "metadata": {},
     "output_type": "execute_result"
    },
    {
     "data": {
      "image/png": "[encoded data removed]",
      "text/plain": [
       "<Figure size 800x700 with 1 Axes>"
      ]
     },
     "metadata": {},
     "output_type": "display_data"
    }
   ],
   "source": [
    "# I want to see the distribution on the length of the tweet.\n",
    "#basically creating a histogram on the length of tweets.\n",
    "tweets_df['length'].plot(bins=100, kind='hist')"
   ]
  },
  {
   "cell_type": "code",
   "execution_count": 19,
   "id": "610d62aa",
   "metadata": {},
   "outputs": [
    {
     "data": {
      "text/html": [
       "<div>\n",
       "<style scoped>\n",
       "    .dataframe tbody tr th:only-of-type {\n",
       "        vertical-align: middle;\n",
       "    }\n",
       "\n",
       "    .dataframe tbody tr th {\n",
       "        vertical-align: top;\n",
       "    }\n",
       "\n",
       "    .dataframe thead th {\n",
       "        text-align: right;\n",
       "    }\n",
       "</style>\n",
       "<table border=\"1\" class=\"dataframe\">\n",
       "  <thead>\n",
       "    <tr style=\"text-align: right;\">\n",
       "      <th></th>\n",
       "      <th>label</th>\n",
       "      <th>length</th>\n",
       "    </tr>\n",
       "  </thead>\n",
       "  <tbody>\n",
       "    <tr>\n",
       "      <th>count</th>\n",
       "      <td>31962.000000</td>\n",
       "      <td>31962.000000</td>\n",
       "    </tr>\n",
       "    <tr>\n",
       "      <th>mean</th>\n",
       "      <td>0.070146</td>\n",
       "      <td>84.739628</td>\n",
       "    </tr>\n",
       "    <tr>\n",
       "      <th>std</th>\n",
       "      <td>0.255397</td>\n",
       "      <td>29.455749</td>\n",
       "    </tr>\n",
       "    <tr>\n",
       "      <th>min</th>\n",
       "      <td>0.000000</td>\n",
       "      <td>11.000000</td>\n",
       "    </tr>\n",
       "    <tr>\n",
       "      <th>25%</th>\n",
       "      <td>0.000000</td>\n",
       "      <td>63.000000</td>\n",
       "    </tr>\n",
       "    <tr>\n",
       "      <th>50%</th>\n",
       "      <td>0.000000</td>\n",
       "      <td>88.000000</td>\n",
       "    </tr>\n",
       "    <tr>\n",
       "      <th>75%</th>\n",
       "      <td>0.000000</td>\n",
       "      <td>108.000000</td>\n",
       "    </tr>\n",
       "    <tr>\n",
       "      <th>max</th>\n",
       "      <td>1.000000</td>\n",
       "      <td>274.000000</td>\n",
       "    </tr>\n",
       "  </tbody>\n",
       "</table>\n",
       "</div>"
      ],
      "text/plain": [
       "              label        length\n",
       "count  31962.000000  31962.000000\n",
       "mean       0.070146     84.739628\n",
       "std        0.255397     29.455749\n",
       "min        0.000000     11.000000\n",
       "25%        0.000000     63.000000\n",
       "50%        0.000000     88.000000\n",
       "75%        0.000000    108.000000\n",
       "max        1.000000    274.000000"
      ]
     },
     "execution_count": 19,
     "metadata": {},
     "output_type": "execute_result"
    }
   ],
   "source": [
    "tweets_df.describe()"
   ]
  },
  {
   "cell_type": "code",
   "execution_count": 20,
   "id": "418eabff",
   "metadata": {},
   "outputs": [
    {
     "data": {
      "text/plain": [
       "'i love you '"
      ]
     },
     "execution_count": 20,
     "metadata": {},
     "output_type": "execute_result"
    }
   ],
   "source": [
    "#let's see the shortest message\n",
    "#basically accessing the one with the 11 chars.\n",
    "tweets_df[tweets_df['length']==11]['tweet'].iloc[0]"
   ]
  },
  {
   "cell_type": "markdown",
   "id": "02f9f8e4",
   "metadata": {},
   "source": [
    "### challenge: see the message with the avg length"
   ]
  },
  {
   "cell_type": "code",
   "execution_count": 21,
   "id": "df2046b0",
   "metadata": {},
   "outputs": [
    {
     "data": {
      "text/plain": [
       "'my mom shares the same bihday as @user   bihday snake! see you this weekend ð\\x9f\\x99\\x8cð\\x9f\\x8f¼'"
      ]
     },
     "execution_count": 21,
     "metadata": {},
     "output_type": "execute_result"
    }
   ],
   "source": [
    "tweets_df[tweets_df['length']==84]['tweet'].iloc[0]\n",
    "#LOL"
   ]
  },
  {
   "cell_type": "code",
   "execution_count": 26,
   "id": "d7fd9db2",
   "metadata": {},
   "outputs": [],
   "source": [
    "#Getting the positive tweets\n",
    "positive = tweets_df[tweets_df['label']==0]"
   ]
  },
  {
   "cell_type": "code",
   "execution_count": 27,
   "id": "247cb619",
   "metadata": {},
   "outputs": [],
   "source": [
    "#Getting the negative tweets\n",
    "negative = tweets_df[tweets_df['label']==1]"
   ]
  },
  {
   "cell_type": "code",
   "execution_count": 28,
   "id": "4324d682",
   "metadata": {},
   "outputs": [
    {
     "data": {
      "text/html": [
       "<div>\n",
       "<style scoped>\n",
       "    .dataframe tbody tr th:only-of-type {\n",
       "        vertical-align: middle;\n",
       "    }\n",
       "\n",
       "    .dataframe tbody tr th {\n",
       "        vertical-align: top;\n",
       "    }\n",
       "\n",
       "    .dataframe thead th {\n",
       "        text-align: right;\n",
       "    }\n",
       "</style>\n",
       "<table border=\"1\" class=\"dataframe\">\n",
       "  <thead>\n",
       "    <tr style=\"text-align: right;\">\n",
       "      <th></th>\n",
       "      <th>label</th>\n",
       "      <th>tweet</th>\n",
       "      <th>length</th>\n",
       "    </tr>\n",
       "  </thead>\n",
       "  <tbody>\n",
       "    <tr>\n",
       "      <th>13</th>\n",
       "      <td>1</td>\n",
       "      <td>@user #cnn calls #michigan middle school 'buil...</td>\n",
       "      <td>74</td>\n",
       "    </tr>\n",
       "    <tr>\n",
       "      <th>14</th>\n",
       "      <td>1</td>\n",
       "      <td>no comment!  in #australia   #opkillingbay #se...</td>\n",
       "      <td>101</td>\n",
       "    </tr>\n",
       "    <tr>\n",
       "      <th>17</th>\n",
       "      <td>1</td>\n",
       "      <td>retweet if you agree!</td>\n",
       "      <td>22</td>\n",
       "    </tr>\n",
       "    <tr>\n",
       "      <th>23</th>\n",
       "      <td>1</td>\n",
       "      <td>@user @user lumpy says i am a . prove it lumpy.</td>\n",
       "      <td>47</td>\n",
       "    </tr>\n",
       "    <tr>\n",
       "      <th>34</th>\n",
       "      <td>1</td>\n",
       "      <td>it's unbelievable that in the 21st century we'...</td>\n",
       "      <td>104</td>\n",
       "    </tr>\n",
       "    <tr>\n",
       "      <th>...</th>\n",
       "      <td>...</td>\n",
       "      <td>...</td>\n",
       "      <td>...</td>\n",
       "    </tr>\n",
       "    <tr>\n",
       "      <th>31934</th>\n",
       "      <td>1</td>\n",
       "      <td>lady banned from kentucky mall. @user  #jcpenn...</td>\n",
       "      <td>59</td>\n",
       "    </tr>\n",
       "    <tr>\n",
       "      <th>31946</th>\n",
       "      <td>1</td>\n",
       "      <td>@user omfg i'm offended! i'm a  mailbox and i'...</td>\n",
       "      <td>82</td>\n",
       "    </tr>\n",
       "    <tr>\n",
       "      <th>31947</th>\n",
       "      <td>1</td>\n",
       "      <td>@user @user you don't have the balls to hashta...</td>\n",
       "      <td>112</td>\n",
       "    </tr>\n",
       "    <tr>\n",
       "      <th>31948</th>\n",
       "      <td>1</td>\n",
       "      <td>makes you ask yourself, who am i? then am i a...</td>\n",
       "      <td>87</td>\n",
       "    </tr>\n",
       "    <tr>\n",
       "      <th>31960</th>\n",
       "      <td>1</td>\n",
       "      <td>@user #sikh #temple vandalised in in #calgary,...</td>\n",
       "      <td>67</td>\n",
       "    </tr>\n",
       "  </tbody>\n",
       "</table>\n",
       "<p>2242 rows × 3 columns</p>\n",
       "</div>"
      ],
      "text/plain": [
       "       label                                              tweet  length\n",
       "13         1  @user #cnn calls #michigan middle school 'buil...      74\n",
       "14         1  no comment!  in #australia   #opkillingbay #se...     101\n",
       "17         1                             retweet if you agree!       22\n",
       "23         1    @user @user lumpy says i am a . prove it lumpy.      47\n",
       "34         1  it's unbelievable that in the 21st century we'...     104\n",
       "...      ...                                                ...     ...\n",
       "31934      1  lady banned from kentucky mall. @user  #jcpenn...      59\n",
       "31946      1  @user omfg i'm offended! i'm a  mailbox and i'...      82\n",
       "31947      1  @user @user you don't have the balls to hashta...     112\n",
       "31948      1   makes you ask yourself, who am i? then am i a...      87\n",
       "31960      1  @user #sikh #temple vandalised in in #calgary,...      67\n",
       "\n",
       "[2242 rows x 3 columns]"
      ]
     },
     "execution_count": 28,
     "metadata": {},
     "output_type": "execute_result"
    }
   ],
   "source": [
    "negative"
   ]
  },
  {
   "cell_type": "code",
   "execution_count": 31,
   "id": "d8ec63c3",
   "metadata": {},
   "outputs": [
    {
     "data": {
      "text/html": [
       "<div>\n",
       "<style scoped>\n",
       "    .dataframe tbody tr th:only-of-type {\n",
       "        vertical-align: middle;\n",
       "    }\n",
       "\n",
       "    .dataframe tbody tr th {\n",
       "        vertical-align: top;\n",
       "    }\n",
       "\n",
       "    .dataframe thead th {\n",
       "        text-align: right;\n",
       "    }\n",
       "</style>\n",
       "<table border=\"1\" class=\"dataframe\">\n",
       "  <thead>\n",
       "    <tr style=\"text-align: right;\">\n",
       "      <th></th>\n",
       "      <th>label</th>\n",
       "      <th>tweet</th>\n",
       "      <th>length</th>\n",
       "    </tr>\n",
       "  </thead>\n",
       "  <tbody>\n",
       "    <tr>\n",
       "      <th>0</th>\n",
       "      <td>0</td>\n",
       "      <td>@user when a father is dysfunctional and is s...</td>\n",
       "      <td>102</td>\n",
       "    </tr>\n",
       "    <tr>\n",
       "      <th>1</th>\n",
       "      <td>0</td>\n",
       "      <td>@user @user thanks for #lyft credit i can't us...</td>\n",
       "      <td>122</td>\n",
       "    </tr>\n",
       "    <tr>\n",
       "      <th>2</th>\n",
       "      <td>0</td>\n",
       "      <td>bihday your majesty</td>\n",
       "      <td>21</td>\n",
       "    </tr>\n",
       "    <tr>\n",
       "      <th>3</th>\n",
       "      <td>0</td>\n",
       "      <td>#model   i love u take with u all the time in ...</td>\n",
       "      <td>86</td>\n",
       "    </tr>\n",
       "    <tr>\n",
       "      <th>4</th>\n",
       "      <td>0</td>\n",
       "      <td>factsguide: society now    #motivation</td>\n",
       "      <td>39</td>\n",
       "    </tr>\n",
       "    <tr>\n",
       "      <th>...</th>\n",
       "      <td>...</td>\n",
       "      <td>...</td>\n",
       "      <td>...</td>\n",
       "    </tr>\n",
       "    <tr>\n",
       "      <th>31956</th>\n",
       "      <td>0</td>\n",
       "      <td>off fishing tomorrow @user carnt wait first ti...</td>\n",
       "      <td>61</td>\n",
       "    </tr>\n",
       "    <tr>\n",
       "      <th>31957</th>\n",
       "      <td>0</td>\n",
       "      <td>ate @user isz that youuu?ðððððð...</td>\n",
       "      <td>68</td>\n",
       "    </tr>\n",
       "    <tr>\n",
       "      <th>31958</th>\n",
       "      <td>0</td>\n",
       "      <td>to see nina turner on the airwaves trying to...</td>\n",
       "      <td>131</td>\n",
       "    </tr>\n",
       "    <tr>\n",
       "      <th>31959</th>\n",
       "      <td>0</td>\n",
       "      <td>listening to sad songs on a monday morning otw...</td>\n",
       "      <td>63</td>\n",
       "    </tr>\n",
       "    <tr>\n",
       "      <th>31961</th>\n",
       "      <td>0</td>\n",
       "      <td>thank you @user for you follow</td>\n",
       "      <td>32</td>\n",
       "    </tr>\n",
       "  </tbody>\n",
       "</table>\n",
       "<p>29720 rows × 3 columns</p>\n",
       "</div>"
      ],
      "text/plain": [
       "       label                                              tweet  length\n",
       "0          0   @user when a father is dysfunctional and is s...     102\n",
       "1          0  @user @user thanks for #lyft credit i can't us...     122\n",
       "2          0                                bihday your majesty      21\n",
       "3          0  #model   i love u take with u all the time in ...      86\n",
       "4          0             factsguide: society now    #motivation      39\n",
       "...      ...                                                ...     ...\n",
       "31956      0  off fishing tomorrow @user carnt wait first ti...      61\n",
       "31957      0  ate @user isz that youuu?ðððððð...      68\n",
       "31958      0    to see nina turner on the airwaves trying to...     131\n",
       "31959      0  listening to sad songs on a monday morning otw...      63\n",
       "31961      0                   thank you @user for you follow        32\n",
       "\n",
       "[29720 rows x 3 columns]"
      ]
     },
     "execution_count": 31,
     "metadata": {},
     "output_type": "execute_result"
    }
   ],
   "source": [
    "positive\n"
   ]
  },
  {
   "cell_type": "code",
   "execution_count": 32,
   "id": "b563974d",
   "metadata": {},
   "outputs": [
    {
     "data": {
      "text/plain": [
       "pandas.core.frame.DataFrame"
      ]
     },
     "execution_count": 32,
     "metadata": {},
     "output_type": "execute_result"
    }
   ],
   "source": [
    "type(positive)"
   ]
  },
  {
   "cell_type": "code",
   "execution_count": null,
   "id": "db9e3305",
   "metadata": {},
   "outputs": [],
   "source": []
  }
 ],
 "metadata": {
  "kernelspec": {
   "display_name": "Python 3 (ipykernel)",
   "language": "python",
   "name": "python3"
  },
  "language_info": {
   "codemirror_mode": {
    "name": "ipython",
    "version": 3
   },
   "file_extension": ".py",
   "mimetype": "text/x-python",
   "name": "python",
   "nbconvert_exporter": "python",
   "pygments_lexer": "ipython3",
   "version": "3.8.8"
  }
 },
 "nbformat": 4,
 "nbformat_minor": 5
}
